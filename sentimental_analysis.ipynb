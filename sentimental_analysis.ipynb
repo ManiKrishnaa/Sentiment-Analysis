{
 "cells": [
  {
   "cell_type": "code",
   "execution_count": 3,
   "id": "7794803e",
   "metadata": {},
   "outputs": [],
   "source": [
    "import warnings\n",
    "warnings.filterwarnings(\"ignore\")"
   ]
  },
  {
   "cell_type": "code",
   "execution_count": 4,
   "id": "fe1c7057",
   "metadata": {},
   "outputs": [],
   "source": [
    "import pandas as pd\n",
    "import re\n",
    "import string\n",
    "from nltk.stem import WordNetLemmatizer\n",
    "from nltk.corpus import stopwords\n",
    "from nltk.tokenize import word_tokenize\n",
    "\n",
    "# Read data\n",
    "df1 = pd.read_csv(\"C:\\\\Users\\\\manik\\\\OneDrive\\\\Documents\\\\Data_sets\\\\sentimental_analysis\\\\train.txt\", delimiter=\";\", names=['text', 'label'])\n",
    "df2 = pd.read_csv(\"C:\\\\Users\\\\manik\\\\OneDrive\\\\Documents\\\\Data_sets\\\\sentimental_analysis\\\\val.txt\", delimiter=\";\", names=['text', 'label'])\n",
    "df = pd.concat([df1, df2])\n",
    "\n",
    "# Tokenization\n",
    "def tokenize(text):\n",
    "    return word_tokenize(text)\n",
    "\n",
    "# Lowercasing\n",
    "def to_lowercase(tokens):\n",
    "    return [token.lower() for token in tokens]\n",
    "\n",
    "# Remove punctuation\n",
    "def remove_punctuation(tokens):\n",
    "    translator = str.maketrans('', '', string.punctuation)\n",
    "    return [token.translate(translator) for token in tokens]\n",
    "\n",
    "# Remove stopwords\n",
    "def remove_stopwords(tokens):\n",
    "    stop_words = set(stopwords.words(\"english\"))\n",
    "    return [token for token in tokens if token.lower() not in stop_words]\n",
    "\n",
    "# Lemmatization\n",
    "lemmatizer = WordNetLemmatizer()\n",
    "def lemmatize(tokens):\n",
    "    return [lemmatizer.lemmatize(token) for token in tokens]\n",
    "\n",
    "# Apply preprocessing steps\n",
    "df['text'] = df['text'].apply(tokenize)\n",
    "df['text'] = df['text'].apply(to_lowercase)\n",
    "df['text'] = df['text'].apply(remove_punctuation)\n",
    "df['text'] = df['text'].apply(remove_stopwords)\n",
    "df['text'] = df['text'].apply(lemmatize)\n",
    "\n",
    "# Convert token lists back to strings\n",
    "df['text'] = df['text'].apply(lambda tokens: ' '.join(tokens))"
   ]
  },
  {
   "cell_type": "code",
   "execution_count": 5,
   "id": "6218ff82",
   "metadata": {},
   "outputs": [],
   "source": [
    "from sklearn.feature_extraction.text import TfidfVectorizer\n",
    "\n",
    "tfidf_vectorizer = TfidfVectorizer(max_features=1000)\n",
    "x = tfidf_vectorizer.fit_transform(df['text'])\n",
    "X = x.toarray()"
   ]
  },
  {
   "cell_type": "code",
   "execution_count": 6,
   "id": "404f7e7b",
   "metadata": {},
   "outputs": [],
   "source": [
    "from sklearn.preprocessing import LabelEncoder\n",
    "encoder = LabelEncoder()\n",
    "y = encoder.fit_transform(df['label'])"
   ]
  },
  {
   "cell_type": "code",
   "execution_count": 7,
   "id": "0dc101f5",
   "metadata": {},
   "outputs": [],
   "source": [
    "from sklearn.model_selection import train_test_split\n",
    "x_train,x_test,y_train,y_test = train_test_split(X,y,test_size=0.2)"
   ]
  },
  {
   "cell_type": "code",
   "execution_count": 8,
   "id": "88958bb1",
   "metadata": {
    "scrolled": true
   },
   "outputs": [
    {
     "data": {
      "text/html": [
       "<style>#sk-container-id-1 {color: black;}#sk-container-id-1 pre{padding: 0;}#sk-container-id-1 div.sk-toggleable {background-color: white;}#sk-container-id-1 label.sk-toggleable__label {cursor: pointer;display: block;width: 100%;margin-bottom: 0;padding: 0.3em;box-sizing: border-box;text-align: center;}#sk-container-id-1 label.sk-toggleable__label-arrow:before {content: \"▸\";float: left;margin-right: 0.25em;color: #696969;}#sk-container-id-1 label.sk-toggleable__label-arrow:hover:before {color: black;}#sk-container-id-1 div.sk-estimator:hover label.sk-toggleable__label-arrow:before {color: black;}#sk-container-id-1 div.sk-toggleable__content {max-height: 0;max-width: 0;overflow: hidden;text-align: left;background-color: #f0f8ff;}#sk-container-id-1 div.sk-toggleable__content pre {margin: 0.2em;color: black;border-radius: 0.25em;background-color: #f0f8ff;}#sk-container-id-1 input.sk-toggleable__control:checked~div.sk-toggleable__content {max-height: 200px;max-width: 100%;overflow: auto;}#sk-container-id-1 input.sk-toggleable__control:checked~label.sk-toggleable__label-arrow:before {content: \"▾\";}#sk-container-id-1 div.sk-estimator input.sk-toggleable__control:checked~label.sk-toggleable__label {background-color: #d4ebff;}#sk-container-id-1 div.sk-label input.sk-toggleable__control:checked~label.sk-toggleable__label {background-color: #d4ebff;}#sk-container-id-1 input.sk-hidden--visually {border: 0;clip: rect(1px 1px 1px 1px);clip: rect(1px, 1px, 1px, 1px);height: 1px;margin: -1px;overflow: hidden;padding: 0;position: absolute;width: 1px;}#sk-container-id-1 div.sk-estimator {font-family: monospace;background-color: #f0f8ff;border: 1px dotted black;border-radius: 0.25em;box-sizing: border-box;margin-bottom: 0.5em;}#sk-container-id-1 div.sk-estimator:hover {background-color: #d4ebff;}#sk-container-id-1 div.sk-parallel-item::after {content: \"\";width: 100%;border-bottom: 1px solid gray;flex-grow: 1;}#sk-container-id-1 div.sk-label:hover label.sk-toggleable__label {background-color: #d4ebff;}#sk-container-id-1 div.sk-serial::before {content: \"\";position: absolute;border-left: 1px solid gray;box-sizing: border-box;top: 0;bottom: 0;left: 50%;z-index: 0;}#sk-container-id-1 div.sk-serial {display: flex;flex-direction: column;align-items: center;background-color: white;padding-right: 0.2em;padding-left: 0.2em;position: relative;}#sk-container-id-1 div.sk-item {position: relative;z-index: 1;}#sk-container-id-1 div.sk-parallel {display: flex;align-items: stretch;justify-content: center;background-color: white;position: relative;}#sk-container-id-1 div.sk-item::before, #sk-container-id-1 div.sk-parallel-item::before {content: \"\";position: absolute;border-left: 1px solid gray;box-sizing: border-box;top: 0;bottom: 0;left: 50%;z-index: -1;}#sk-container-id-1 div.sk-parallel-item {display: flex;flex-direction: column;z-index: 1;position: relative;background-color: white;}#sk-container-id-1 div.sk-parallel-item:first-child::after {align-self: flex-end;width: 50%;}#sk-container-id-1 div.sk-parallel-item:last-child::after {align-self: flex-start;width: 50%;}#sk-container-id-1 div.sk-parallel-item:only-child::after {width: 0;}#sk-container-id-1 div.sk-dashed-wrapped {border: 1px dashed gray;margin: 0 0.4em 0.5em 0.4em;box-sizing: border-box;padding-bottom: 0.4em;background-color: white;}#sk-container-id-1 div.sk-label label {font-family: monospace;font-weight: bold;display: inline-block;line-height: 1.2em;}#sk-container-id-1 div.sk-label-container {text-align: center;}#sk-container-id-1 div.sk-container {/* jupyter's `normalize.less` sets `[hidden] { display: none; }` but bootstrap.min.css set `[hidden] { display: none !important; }` so we also need the `!important` here to be able to override the default hidden behavior on the sphinx rendered scikit-learn.org. See: https://github.com/scikit-learn/scikit-learn/issues/21755 */display: inline-block !important;position: relative;}#sk-container-id-1 div.sk-text-repr-fallback {display: none;}</style><div id=\"sk-container-id-1\" class=\"sk-top-container\"><div class=\"sk-text-repr-fallback\"><pre>LogisticRegression()</pre><b>In a Jupyter environment, please rerun this cell to show the HTML representation or trust the notebook. <br />On GitHub, the HTML representation is unable to render, please try loading this page with nbviewer.org.</b></div><div class=\"sk-container\" hidden><div class=\"sk-item\"><div class=\"sk-estimator sk-toggleable\"><input class=\"sk-toggleable__control sk-hidden--visually\" id=\"sk-estimator-id-1\" type=\"checkbox\" checked><label for=\"sk-estimator-id-1\" class=\"sk-toggleable__label sk-toggleable__label-arrow\">LogisticRegression</label><div class=\"sk-toggleable__content\"><pre>LogisticRegression()</pre></div></div></div></div></div>"
      ],
      "text/plain": [
       "LogisticRegression()"
      ]
     },
     "execution_count": 8,
     "metadata": {},
     "output_type": "execute_result"
    }
   ],
   "source": [
    "from sklearn.linear_model import LogisticRegression\n",
    "model = LogisticRegression()\n",
    "model.fit(x_train,y_train)"
   ]
  },
  {
   "cell_type": "code",
   "execution_count": 9,
   "id": "eaed50d9",
   "metadata": {},
   "outputs": [
    {
     "name": "stdout",
     "output_type": "stream",
     "text": [
      "0.8497222222222223\n"
     ]
    }
   ],
   "source": [
    "from sklearn.metrics import accuracy_score\n",
    "y_pred = model.predict(x_test)\n",
    "print(accuracy_score(y_test,y_pred))"
   ]
  },
  {
   "cell_type": "code",
   "execution_count": 10,
   "id": "2558f793",
   "metadata": {},
   "outputs": [
    {
     "name": "stdout",
     "output_type": "stream",
     "text": [
      "Text: I absolutely loved this movie! - Predicted Label: joy\n",
      "Text: The customer service was terrible. I will never go back to that restaurant again. - Predicted Label: sadness\n",
      "Text: Today's weather is beautiful. - Predicted Label: joy\n",
      "Text: The traffic was unbearable this morning. - Predicted Label: joy\n",
      "Text: The book was difficult to understand, but it was worth the effort. - Predicted Label: sadness\n",
      "Text: The new smartphone is amazing. I'm so impressed with its features. - Predicted Label: surprise\n",
      "Text: I'm feeling really happy and excited today! - Predicted Label: joy\n",
      "Text: The internet connection is so slow. It's frustrating. - Predicted Label: joy\n",
      "Text: The concert last night was fantastic. The band played all my favorite songs. - Predicted Label: joy\n",
      "Text: I'm feeling really anxious and stressed about the upcoming exam. - Predicted Label: sadness\n"
     ]
    }
   ],
   "source": [
    "example_texts = [\n",
    "    \"I absolutely loved this movie!\",\n",
    "    \"The customer service was terrible. I will never go back to that restaurant again.\",\n",
    "    \"Today's weather is beautiful.\",\n",
    "    \"The traffic was unbearable this morning.\",\n",
    "    \"The book was difficult to understand, but it was worth the effort.\",\n",
    "    \"The new smartphone is amazing. I'm so impressed with its features.\",\n",
    "    \"I'm feeling really happy and excited today!\",\n",
    "    \"The internet connection is so slow. It's frustrating.\",\n",
    "    \"The concert last night was fantastic. The band played all my favorite songs.\",\n",
    "    \"I'm feeling really anxious and stressed about the upcoming exam.\"\n",
    "]\n",
    "\n",
    "for text in example_texts:\n",
    "    # Preprocess and vectorize the new text\n",
    "    new_text_tokens = tokenize(text)\n",
    "    new_text_tokens = to_lowercase(new_text_tokens)\n",
    "    new_text_tokens = remove_punctuation(new_text_tokens)\n",
    "    new_text_tokens = remove_stopwords(new_text_tokens)\n",
    "    new_text_tokens = lemmatize(new_text_tokens)\n",
    "    new_text_vectorized = tfidf_vectorizer.transform([' '.join(new_text_tokens)]).toarray()\n",
    "\n",
    "    # Make predictions on the new text\n",
    "    new_text_prediction = model.predict(new_text_vectorized)\n",
    "\n",
    "    # Convert numerical prediction back to label category\n",
    "    predicted_label_category = encoder.inverse_transform(new_text_prediction)\n",
    "\n",
    "    print(f\"Text: {text} - Predicted Label: {predicted_label_category[0]}\")\n"
   ]
  },
  {
   "cell_type": "code",
   "execution_count": 11,
   "id": "c1cea59c",
   "metadata": {},
   "outputs": [
    {
     "name": "stdout",
     "output_type": "stream",
     "text": [
      "0.8591666666666666\n"
     ]
    }
   ],
   "source": [
    "from sklearn.svm import SVC\n",
    "svm_model = SVC(kernel='linear',C=1.0,random_state=42)\n",
    "svm_model.fit(x_train,y_train)\n",
    "\n",
    "y_svm_pred = svm_model.predict(x_test)\n",
    "print(accuracy_score(y_test,y_svm_pred))"
   ]
  },
  {
   "cell_type": "code",
   "execution_count": 23,
   "id": "2bae7e8b",
   "metadata": {},
   "outputs": [],
   "source": [
    "import pickle\n",
    "with open(\"sentiment_analysis_encoder.pkl\",\"wb\") as f:\n",
    "    pickle.dump((svm_model,encoder),f)"
   ]
  },
  {
   "cell_type": "code",
   "execution_count": 24,
   "id": "ea72c8cf",
   "metadata": {},
   "outputs": [],
   "source": [
    "new_text_tokens = tokenize(\"hello i am very pleased today .\")\n",
    "new_text_tokens = to_lowercase(new_text_tokens)\n",
    "new_text_tokens = remove_punctuation(new_text_tokens)\n",
    "new_text_tokens = remove_stopwords(new_text_tokens)\n",
    "new_text_tokens = lemmatize(new_text_tokens)\n",
    "new_text_vectorized = tfidf_vectorizer.transform([' '.join(new_text_tokens)]).toarray()"
   ]
  },
  {
   "cell_type": "code",
   "execution_count": 27,
   "id": "8e733441",
   "metadata": {
    "scrolled": true
   },
   "outputs": [
    {
     "data": {
      "text/plain": [
       "array(['joy'], dtype=object)"
      ]
     },
     "execution_count": 27,
     "metadata": {},
     "output_type": "execute_result"
    }
   ],
   "source": [
    "with open(\"sentiment_analysis_encoder.pkl\",\"rb\") as f:\n",
    "    loaded_model,loaded_encoder = pickle.load(f)\n",
    "predicted_ans = loaded_model.predict(new_text_vectorized)\n",
    "predicted_label_category = loaded_encoder.inverse_transform(predicted_ans)\n",
    "predicted_label_category"
   ]
  },
  {
   "cell_type": "markdown",
   "id": "79de5f2f",
   "metadata": {},
   "source": [
    "naive bayes accuracy - 80\n",
    "randomforest accuracy - 81 \n",
    "logistic regression - 84"
   ]
  },
  {
   "cell_type": "code",
   "execution_count": null,
   "id": "0d64f925",
   "metadata": {},
   "outputs": [],
   "source": []
  }
 ],
 "metadata": {
  "kernelspec": {
   "display_name": "Python 3 (ipykernel)",
   "language": "python",
   "name": "python3"
  },
  "language_info": {
   "codemirror_mode": {
    "name": "ipython",
    "version": 3
   },
   "file_extension": ".py",
   "mimetype": "text/x-python",
   "name": "python",
   "nbconvert_exporter": "python",
   "pygments_lexer": "ipython3",
   "version": "3.11.5"
  }
 },
 "nbformat": 4,
 "nbformat_minor": 5
}
